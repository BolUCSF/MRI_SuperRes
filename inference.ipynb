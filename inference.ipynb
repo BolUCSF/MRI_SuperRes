{
 "cells": [
  {
   "cell_type": "code",
   "execution_count": 1,
   "metadata": {},
   "outputs": [],
   "source": [
    "import os, json, torch, random\n",
    "import numpy as np\n",
    "from monai import transforms\n",
    "from monai.data import DataLoader, DistributedSampler\n",
    "from tqdm import tqdm\n",
    "import matplotlib.pyplot as plt\n",
    "from torch.utils.data import Dataset\n",
    "from monai.networks.nets.swin_unetr import SwinUNETR\n",
    "from monai.inferers import sliding_window_inference\n",
    "from functools import partial\n",
    "import matplotlib.pyplot as plt\n",
    "from models.SuperFormer import SuperFormer\n",
    "import nibabel as nib"
   ]
  },
  {
   "cell_type": "code",
   "execution_count": 2,
   "metadata": {},
   "outputs": [],
   "source": [
    "class MRIDataset(Dataset):\n",
    "    def downsample_mri_kspace(self, mri_image, downsampling_factor):\n",
    "        \"\"\"\n",
    "        Downsamples an MRI image using k-space zero-filling.\n",
    "        \"\"\"\n",
    "        # Get the image data and affine transformation\n",
    "        data = mri_image[0]\n",
    "\n",
    "        # Get the spatial dimensions\n",
    "        spatial_dims = data.shape[:len(downsampling_factor)]\n",
    "        num_spatial_dims = len(spatial_dims)\n",
    "\n",
    "        # Check if the downsampling factor is valid\n",
    "        if len(downsampling_factor) != num_spatial_dims:\n",
    "            raise ValueError(f\"Downsampling factor length ({len(downsampling_factor)}) must match the number of spatial dimensions ({num_spatial_dims}).\")\n",
    "        for factor in downsampling_factor:\n",
    "            if not isinstance(factor, int) or factor < 1:\n",
    "                raise ValueError(\"Downsampling factors must be positive integers.\")\n",
    "\n",
    "        # Perform k-space transform\n",
    "        k_space = np.fft.fftn(data, axes=range(num_spatial_dims))\n",
    "        k_space_shifted = np.fft.fftshift(k_space, axes=range(num_spatial_dims))\n",
    "\n",
    "        # Create a new k-space array with zero-filling\n",
    "        new_k_space_shape = list(k_space_shifted.shape)\n",
    "\n",
    "        # Determine the central portion to keep in k-space\n",
    "        start_indices = []\n",
    "        end_indices = []\n",
    "        for i in range(num_spatial_dims):\n",
    "            center = spatial_dims[i] // 2\n",
    "            half_kept = (spatial_dims[i] // downsampling_factor[i]) // 2\n",
    "            start_indices.append(center - half_kept)\n",
    "            end_indices.append(center + (spatial_dims[i] // downsampling_factor[i]) - half_kept)\n",
    "            new_k_space_shape[i] = spatial_dims[i] // downsampling_factor[i]\n",
    "\n",
    "        # Place the central portion of the original k-space into the new (larger) array\n",
    "        slices = tuple(slice(start, end) for start, end in zip(start_indices, end_indices))\n",
    "        # downsampled_k_space_shifted[slices] = k_space_shifted[slices]\n",
    "        downsampled_k_space_shifted = k_space_shifted[slices]\n",
    "\n",
    "        # Inverse k-space transform to get the downsampled image\n",
    "        downsampled_k_space = np.fft.ifftshift(downsampled_k_space_shifted, axes=range(num_spatial_dims))\n",
    "        downsampled_data = np.fft.ifftn(downsampled_k_space, axes=range(num_spatial_dims)).real\n",
    "        downsampled_data = downsampled_data[np.newaxis, ...]  # Add a new axis to match the original shape\n",
    "\n",
    "        return downsampled_data\n",
    "\n",
    "    def __init__(self, image_paths, type, resample_factors):\n",
    "        self.image_paths = image_paths\n",
    "        self.resample_factors = resample_factors\n",
    "        self.train_transform_1 = transforms.Compose([\n",
    "            transforms.CopyItemsd(keys=[type], names=['path']),\n",
    "            transforms.LoadImaged(keys=[type]),\n",
    "            transforms.CopyItemsd(keys=[type], names=['image']),\n",
    "            transforms.DeleteItemsd(keys=[type]),\n",
    "            transforms.EnsureChannelFirstd(keys=[\"image\"]),\n",
    "            transforms.EnsureTyped(keys=[\"image\"]),\n",
    "            transforms.Orientationd(keys=[\"image\"], axcodes=\"RAS\"),\n",
    "            transforms.ScaleIntensityRangePercentilesd(keys=[\"image\"], lower=0.5, upper=99.5, b_min=0, b_max=1,clip=True ),\n",
    "            transforms.Spacingd(keys=['image'],pixdim=(1,1,1),mode=\"nearest\"),\n",
    "            transforms.ResizeWithPadOrCropd(keys=['image'],spatial_size=(240,240,160)),\n",
    "            transforms.CopyItemsd(keys=['image'], names=['hi_res','low_res'], times=2),\n",
    "            transforms.DeleteItemsd(keys=['image']),])\n",
    "        self.train_transform_2 = transforms.Compose([\n",
    "            transforms.Resized(keys=[\"low_res\"], spatial_size=(240,240,160), mode=\"nearest\"),\n",
    "        ])\n",
    "    \n",
    "    def __len__(self):\n",
    "        return len(self.image_paths)\n",
    "    \n",
    "    def __getitem__(self, idx):\n",
    "        data = self.image_paths[idx]\n",
    "        transformed_data = self.train_transform_1(data)\n",
    "        # transformed_data['low_res'] = self.downsample_mri_kspace(transformed_data['low_res'],self.resample_factors)\n",
    "        # transformed_data = self.train_transform_2(transformed_data)\n",
    "        return transformed_data"
   ]
  },
  {
   "cell_type": "code",
   "execution_count": 3,
   "metadata": {},
   "outputs": [
    {
     "name": "stdout",
     "output_type": "stream",
     "text": [
      "100\n"
     ]
    }
   ],
   "source": [
    "with open('json/short_list.json') as f:\n",
    "    test_pair = json.load(f)\n",
    "    print(len(test_pair))\n",
    "random.seed(0)\n",
    "random.shuffle(test_pair)\n",
    "test_pair = test_pair"
   ]
  },
  {
   "cell_type": "code",
   "execution_count": 4,
   "metadata": {},
   "outputs": [],
   "source": [
    "down_sample = 4\n",
    "test_ds = MRIDataset(test_pair,type='fl', resample_factors = (1, 1, 4))\n",
    "test_loader = DataLoader(test_ds, batch_size=2, shuffle=False, num_workers=2, persistent_workers=True)#'path', 'hi_res', 'low_res'"
   ]
  },
  {
   "cell_type": "code",
   "execution_count": 5,
   "metadata": {},
   "outputs": [],
   "source": [
    "model = SuperFormer(upscale=1,\n",
    "                   patch_size = 2,\n",
    "                   in_chans=1,\n",
    "                   img_size=64,\n",
    "                   window_size=8,\n",
    "                   img_range=1.0,\n",
    "                   depths=[6, 6, 6],\n",
    "                   embed_dim=240,\n",
    "                   num_heads=[6, 6, 6],\n",
    "                   mlp_ratio=2,\n",
    "                   upsampler=None,\n",
    "                   resi_connection=\"1conv\",\n",
    "                   ape=False, \n",
    "                   rpb=True,\n",
    "                   output_type = \"direct\",\n",
    "                   num_feat = 126)\n",
    "# model.load_state_dict(torch.load('./checkpoint_superformer/pytorch_model.bin',weights_only=True))\n",
    "model.load_state_dict(torch.load('./checkpoint_superformer/siglip_latest.pt',weights_only=True))\n",
    "device = torch.device(\"cuda:2\" if torch.cuda.is_available() else \"cpu\")\n",
    "model = model.to(device)\n",
    "model_inferer = partial(\n",
    "    sliding_window_inference,\n",
    "    roi_size=[64, 64, 64],\n",
    "    sw_batch_size=20,\n",
    "    predictor=model,\n",
    "    overlap=0.6,\n",
    ")"
   ]
  },
  {
   "cell_type": "code",
   "execution_count": 16,
   "metadata": {},
   "outputs": [
    {
     "name": "stderr",
     "output_type": "stream",
     "text": [
      "  0%|          | 0/50 [00:00<?, ?it/s]"
     ]
    },
    {
     "name": "stdout",
     "output_type": "stream",
     "text": [
      "./Infer/recon_4/t15923/t15923_fl_bet.nii.gz\n"
     ]
    },
    {
     "name": "stderr",
     "output_type": "stream",
     "text": [
      "  2%|▏         | 1/50 [09:07<7:27:26, 547.88s/it]"
     ]
    },
    {
     "name": "stdout",
     "output_type": "stream",
     "text": [
      "./Infer/recon_4/t5860/t5860_fl_bet.nii.gz\n",
      "./Infer/recon_4/t5554/t5554_fl_bet.nii.gz\n"
     ]
    },
    {
     "name": "stderr",
     "output_type": "stream",
     "text": [
      "  4%|▍         | 2/50 [18:12<7:16:51, 546.07s/it]"
     ]
    },
    {
     "name": "stdout",
     "output_type": "stream",
     "text": [
      "./Infer/recon_4/t5314/t5314_fl_bet.nii.gz\n",
      "./Infer/recon_4/t12014/t12014_fl_bet.nii.gz\n"
     ]
    },
    {
     "name": "stderr",
     "output_type": "stream",
     "text": [
      "  6%|▌         | 3/50 [27:18<7:07:33, 545.82s/it]"
     ]
    },
    {
     "name": "stdout",
     "output_type": "stream",
     "text": [
      "./Infer/recon_4/t5243/t5243_fl_bet.nii.gz\n",
      "./Infer/recon_4/t10119/t10119_fl_bet.nii.gz\n"
     ]
    },
    {
     "name": "stderr",
     "output_type": "stream",
     "text": [
      "  8%|▊         | 4/50 [36:37<7:02:30, 551.11s/it]"
     ]
    },
    {
     "name": "stdout",
     "output_type": "stream",
     "text": [
      "./Infer/recon_4/t5668/t5668_fl_bet.nii.gz\n",
      "./Infer/recon_4/t6020/t6020_fl_bet.nii.gz\n"
     ]
    },
    {
     "name": "stderr",
     "output_type": "stream",
     "text": [
      " 10%|█         | 5/50 [45:43<6:51:54, 549.21s/it]"
     ]
    },
    {
     "name": "stdout",
     "output_type": "stream",
     "text": [
      "./Infer/recon_4/t4977/t4977_fl_bet.nii.gz\n",
      "./Infer/recon_4/t6034/t6034_fl_bet.nii.gz\n"
     ]
    },
    {
     "name": "stderr",
     "output_type": "stream",
     "text": [
      " 12%|█▏        | 6/50 [55:00<6:44:49, 552.03s/it]"
     ]
    },
    {
     "name": "stdout",
     "output_type": "stream",
     "text": [
      "./Infer/recon_4/t5845/t5845_fl_bet.nii.gz\n",
      "./Infer/recon_4/t12074/t12074_fl_bet.nii.gz\n"
     ]
    },
    {
     "name": "stderr",
     "output_type": "stream",
     "text": [
      " 14%|█▍        | 7/50 [1:04:07<6:34:25, 550.35s/it]"
     ]
    },
    {
     "name": "stdout",
     "output_type": "stream",
     "text": [
      "./Infer/recon_4/t16204/t16204_fl_bet.nii.gz\n",
      "./Infer/recon_4/t6062/t6062_fl_bet.nii.gz\n"
     ]
    },
    {
     "name": "stderr",
     "output_type": "stream",
     "text": [
      " 16%|█▌        | 8/50 [1:13:11<6:23:51, 548.37s/it]"
     ]
    },
    {
     "name": "stdout",
     "output_type": "stream",
     "text": [
      "./Infer/recon_4/t5648/t5648_fl_bet.nii.gz\n",
      "./Infer/recon_4/t9990/t9990_fl_bet.nii.gz\n"
     ]
    },
    {
     "name": "stderr",
     "output_type": "stream",
     "text": [
      " 18%|█▊        | 9/50 [1:22:15<6:13:45, 546.97s/it]"
     ]
    },
    {
     "name": "stdout",
     "output_type": "stream",
     "text": [
      "./Infer/recon_4/t10724/t10724_fl_bet.nii.gz\n",
      "./Infer/recon_4/t16348/t16348_fl_bet.nii.gz\n"
     ]
    },
    {
     "name": "stderr",
     "output_type": "stream",
     "text": [
      " 20%|██        | 10/50 [1:31:39<6:08:02, 552.05s/it]"
     ]
    },
    {
     "name": "stdout",
     "output_type": "stream",
     "text": [
      "./Infer/recon_4/t16396/t16396_fl_bet.nii.gz\n",
      "./Infer/recon_4/t7935/t7935_fl_bet.nii.gz\n"
     ]
    },
    {
     "name": "stderr",
     "output_type": "stream",
     "text": [
      " 22%|██▏       | 11/50 [1:40:43<5:57:13, 549.58s/it]"
     ]
    },
    {
     "name": "stdout",
     "output_type": "stream",
     "text": [
      "./Infer/recon_4/t5811/t5811_fl_bet.nii.gz\n",
      "./Infer/recon_4/t15410/t15410_fl_bet.nii.gz\n"
     ]
    },
    {
     "name": "stderr",
     "output_type": "stream",
     "text": [
      " 24%|██▍       | 12/50 [1:49:50<5:47:34, 548.81s/it]"
     ]
    },
    {
     "name": "stdout",
     "output_type": "stream",
     "text": [
      "./Infer/recon_4/t12751/t12751_fl_bet.nii.gz\n",
      "./Infer/recon_4/t12334/t12334_fl_bet.nii.gz\n"
     ]
    },
    {
     "name": "stderr",
     "output_type": "stream",
     "text": [
      " 26%|██▌       | 13/50 [1:58:56<5:37:55, 547.98s/it]"
     ]
    },
    {
     "name": "stdout",
     "output_type": "stream",
     "text": [
      "./Infer/recon_4/t5682/t5682_fl_bet.nii.gz\n",
      "./Infer/recon_4/t14386/t14386_fl_bet.nii.gz\n"
     ]
    },
    {
     "name": "stderr",
     "output_type": "stream",
     "text": [
      " 28%|██▊       | 14/50 [2:08:16<5:31:05, 551.81s/it]"
     ]
    },
    {
     "name": "stdout",
     "output_type": "stream",
     "text": [
      "./Infer/recon_4/t6122/t6122_fl_bet.nii.gz\n",
      "./Infer/recon_4/t15320/t15320_fl_bet.nii.gz\n"
     ]
    },
    {
     "name": "stderr",
     "output_type": "stream",
     "text": [
      " 30%|███       | 15/50 [2:17:36<5:23:20, 554.29s/it]"
     ]
    },
    {
     "name": "stdout",
     "output_type": "stream",
     "text": [
      "./Infer/recon_4/t5569/t5569_fl_bet.nii.gz\n",
      "./Infer/recon_4/t6688/t6688_fl_bet.nii.gz\n"
     ]
    },
    {
     "name": "stderr",
     "output_type": "stream",
     "text": [
      " 32%|███▏      | 16/50 [2:27:11<5:17:28, 560.26s/it]"
     ]
    },
    {
     "name": "stdout",
     "output_type": "stream",
     "text": [
      "./Infer/recon_4/t7858/t7858_fl_bet.nii.gz\n",
      "./Infer/recon_4/t5015/t5015_fl_bet.nii.gz\n"
     ]
    },
    {
     "name": "stderr",
     "output_type": "stream",
     "text": [
      " 34%|███▍      | 17/50 [2:36:17<5:05:51, 556.12s/it]"
     ]
    },
    {
     "name": "stdout",
     "output_type": "stream",
     "text": [
      "./Infer/recon_4/t5172/t5172_fl_bet.nii.gz\n",
      "./Infer/recon_4/t9476/t9476_fl_bet.nii.gz\n"
     ]
    },
    {
     "name": "stderr",
     "output_type": "stream",
     "text": [
      " 36%|███▌      | 18/50 [2:45:37<4:57:11, 557.23s/it]"
     ]
    },
    {
     "name": "stdout",
     "output_type": "stream",
     "text": [
      "./Infer/recon_4/t2806/t2806_fl_bet.nii.gz\n",
      "./Infer/recon_4/t6321/t6321_fl_bet.nii.gz\n"
     ]
    },
    {
     "name": "stderr",
     "output_type": "stream",
     "text": [
      " 38%|███▊      | 19/50 [2:55:05<4:49:39, 560.63s/it]"
     ]
    },
    {
     "name": "stdout",
     "output_type": "stream",
     "text": [
      "./Infer/recon_4/t14028/t14028_fl_bet.nii.gz\n",
      "./Infer/recon_4/t8626/t8626_fl_bet.nii.gz\n"
     ]
    },
    {
     "name": "stderr",
     "output_type": "stream",
     "text": [
      " 40%|████      | 20/50 [3:04:12<4:38:16, 556.55s/it]"
     ]
    },
    {
     "name": "stdout",
     "output_type": "stream",
     "text": [
      "./Infer/recon_4/t5011/t5011_fl_bet.nii.gz\n",
      "./Infer/recon_4/t9495/t9495_fl_bet.nii.gz\n"
     ]
    },
    {
     "name": "stderr",
     "output_type": "stream",
     "text": [
      " 42%|████▏     | 21/50 [3:13:18<4:27:27, 553.36s/it]"
     ]
    },
    {
     "name": "stdout",
     "output_type": "stream",
     "text": [
      "./Infer/recon_4/t8547/t8547_fl_bet.nii.gz\n",
      "./Infer/recon_4/t16262/t16262_fl_bet.nii.gz\n"
     ]
    },
    {
     "name": "stderr",
     "output_type": "stream",
     "text": [
      " 44%|████▍     | 22/50 [3:22:39<4:19:12, 555.45s/it]"
     ]
    },
    {
     "name": "stdout",
     "output_type": "stream",
     "text": [
      "./Infer/recon_4/t3241/t3241_fl_bet.nii.gz\n",
      "./Infer/recon_4/t14415/t14415_fl_bet.nii.gz\n"
     ]
    },
    {
     "name": "stderr",
     "output_type": "stream",
     "text": [
      " 46%|████▌     | 23/50 [3:31:46<4:08:48, 552.92s/it]"
     ]
    },
    {
     "name": "stdout",
     "output_type": "stream",
     "text": [
      "./Infer/recon_4/t9721/t9721_fl_bet.nii.gz\n",
      "./Infer/recon_4/t9115/t9115_fl_bet.nii.gz\n"
     ]
    },
    {
     "name": "stderr",
     "output_type": "stream",
     "text": [
      " 48%|████▊     | 24/50 [3:41:06<4:00:30, 555.01s/it]"
     ]
    },
    {
     "name": "stdout",
     "output_type": "stream",
     "text": [
      "./Infer/recon_4/t5363/t5363_fl_bet.nii.gz\n",
      "./Infer/recon_4/t14315/t14315_fl_bet.nii.gz\n"
     ]
    },
    {
     "name": "stderr",
     "output_type": "stream",
     "text": [
      " 50%|█████     | 25/50 [3:50:21<3:51:17, 555.12s/it]"
     ]
    },
    {
     "name": "stdout",
     "output_type": "stream",
     "text": [
      "./Infer/recon_4/t7493/t7493_fl_bet.nii.gz\n",
      "./Infer/recon_4/t12761/t12761_fl_bet.nii.gz\n"
     ]
    },
    {
     "name": "stderr",
     "output_type": "stream",
     "text": [
      " 52%|█████▏    | 26/50 [3:59:54<3:44:13, 560.57s/it]"
     ]
    },
    {
     "name": "stdout",
     "output_type": "stream",
     "text": [
      "./Infer/recon_4/t15074/t15074_fl_bet.nii.gz\n",
      "./Infer/recon_4/t9581/t9581_fl_bet.nii.gz\n"
     ]
    },
    {
     "name": "stderr",
     "output_type": "stream",
     "text": [
      " 54%|█████▍    | 27/50 [4:09:13<3:34:43, 560.13s/it]"
     ]
    },
    {
     "name": "stdout",
     "output_type": "stream",
     "text": [
      "./Infer/recon_4/t7856/t7856_fl_bet.nii.gz\n",
      "./Infer/recon_4/t7876/t7876_fl_bet.nii.gz\n"
     ]
    },
    {
     "name": "stderr",
     "output_type": "stream",
     "text": [
      " 56%|█████▌    | 28/50 [4:18:20<3:23:51, 555.98s/it]"
     ]
    },
    {
     "name": "stdout",
     "output_type": "stream",
     "text": [
      "./Infer/recon_4/t8057/t8057_fl_bet.nii.gz\n",
      "./Infer/recon_4/t5561/t5561_fl_bet.nii.gz\n"
     ]
    },
    {
     "name": "stderr",
     "output_type": "stream",
     "text": [
      " 58%|█████▊    | 29/50 [4:27:28<3:13:49, 553.78s/it]"
     ]
    },
    {
     "name": "stdout",
     "output_type": "stream",
     "text": [
      "./Infer/recon_4/t9336/t9336_fl_bet.nii.gz\n",
      "./Infer/recon_4/t7828/t7828_fl_bet.nii.gz\n"
     ]
    },
    {
     "name": "stderr",
     "output_type": "stream",
     "text": [
      " 60%|██████    | 30/50 [4:36:43<3:04:42, 554.12s/it]"
     ]
    },
    {
     "name": "stdout",
     "output_type": "stream",
     "text": [
      "./Infer/recon_4/t5730/t5730_fl_bet.nii.gz\n",
      "./Infer/recon_4/t6151/t6151_fl_bet.nii.gz\n"
     ]
    },
    {
     "name": "stderr",
     "output_type": "stream",
     "text": [
      " 62%|██████▏   | 31/50 [4:45:46<2:54:26, 550.86s/it]"
     ]
    },
    {
     "name": "stdout",
     "output_type": "stream",
     "text": [
      "./Infer/recon_4/t11826/t11826_fl_bet.nii.gz\n",
      "./Infer/recon_4/t5345/t5345_fl_bet.nii.gz\n"
     ]
    },
    {
     "name": "stderr",
     "output_type": "stream",
     "text": [
      " 64%|██████▍   | 32/50 [4:54:48<2:44:22, 547.92s/it]"
     ]
    },
    {
     "name": "stdout",
     "output_type": "stream",
     "text": [
      "./Infer/recon_4/t5307/t5307_fl_bet.nii.gz\n",
      "./Infer/recon_4/t6087/t6087_fl_bet.nii.gz\n"
     ]
    },
    {
     "name": "stderr",
     "output_type": "stream",
     "text": [
      " 66%|██████▌   | 33/50 [5:03:55<2:35:13, 547.83s/it]"
     ]
    },
    {
     "name": "stdout",
     "output_type": "stream",
     "text": [
      "./Infer/recon_4/t14224/t14224_fl_bet.nii.gz\n",
      "./Infer/recon_4/t14485/t14485_fl_bet.nii.gz\n"
     ]
    },
    {
     "name": "stderr",
     "output_type": "stream",
     "text": [
      " 68%|██████▊   | 34/50 [5:13:13<2:26:51, 550.71s/it]"
     ]
    },
    {
     "name": "stdout",
     "output_type": "stream",
     "text": [
      "./Infer/recon_4/t14382/t14382_fl_bet.nii.gz\n",
      "./Infer/recon_4/t7838/t7838_fl_bet.nii.gz\n"
     ]
    },
    {
     "name": "stderr",
     "output_type": "stream",
     "text": [
      " 70%|███████   | 35/50 [5:22:27<2:17:55, 551.71s/it]"
     ]
    },
    {
     "name": "stdout",
     "output_type": "stream",
     "text": [
      "./Infer/recon_4/t5110/t5110_fl_bet.nii.gz\n",
      "./Infer/recon_4/t5081/t5081_fl_bet.nii.gz\n"
     ]
    },
    {
     "name": "stderr",
     "output_type": "stream",
     "text": [
      " 72%|███████▏  | 36/50 [5:31:42<2:08:58, 552.75s/it]"
     ]
    },
    {
     "name": "stdout",
     "output_type": "stream",
     "text": [
      "./Infer/recon_4/t5595/t5595_fl_bet.nii.gz\n",
      "./Infer/recon_4/t8060/t8060_fl_bet.nii.gz\n"
     ]
    },
    {
     "name": "stderr",
     "output_type": "stream",
     "text": [
      " 74%|███████▍  | 37/50 [5:40:55<1:59:45, 552.73s/it]"
     ]
    },
    {
     "name": "stdout",
     "output_type": "stream",
     "text": [
      "./Infer/recon_4/t16476/t16476_fl_bet.nii.gz\n",
      "./Infer/recon_4/t9528/t9528_fl_bet.nii.gz\n"
     ]
    },
    {
     "name": "stderr",
     "output_type": "stream",
     "text": [
      " 76%|███████▌  | 38/50 [5:50:24<1:51:32, 557.70s/it]"
     ]
    },
    {
     "name": "stdout",
     "output_type": "stream",
     "text": [
      "./Infer/recon_4/t7393/t7393_fl_bet.nii.gz\n",
      "./Infer/recon_4/t7569/t7569_fl_bet.nii.gz\n"
     ]
    },
    {
     "name": "stderr",
     "output_type": "stream",
     "text": [
      " 78%|███████▊  | 39/50 [5:59:40<1:42:09, 557.19s/it]"
     ]
    },
    {
     "name": "stdout",
     "output_type": "stream",
     "text": [
      "./Infer/recon_4/t5321/t5321_fl_bet.nii.gz\n",
      "./Infer/recon_4/t5889/t5889_fl_bet.nii.gz\n"
     ]
    },
    {
     "name": "stderr",
     "output_type": "stream",
     "text": [
      " 80%|████████  | 40/50 [6:08:57<1:32:50, 557.05s/it]"
     ]
    },
    {
     "name": "stdout",
     "output_type": "stream",
     "text": [
      "./Infer/recon_4/t10418/t10418_fl_bet.nii.gz\n",
      "./Infer/recon_4/t14244/t14244_fl_bet.nii.gz\n"
     ]
    },
    {
     "name": "stderr",
     "output_type": "stream",
     "text": [
      " 82%|████████▏ | 41/50 [6:17:57<1:22:49, 552.20s/it]"
     ]
    },
    {
     "name": "stdout",
     "output_type": "stream",
     "text": [
      "./Infer/recon_4/t14250/t14250_fl_bet.nii.gz\n",
      "./Infer/recon_4/t9504/t9504_fl_bet.nii.gz\n"
     ]
    },
    {
     "name": "stderr",
     "output_type": "stream",
     "text": [
      " 84%|████████▍ | 42/50 [6:27:09<1:13:37, 552.14s/it]"
     ]
    },
    {
     "name": "stdout",
     "output_type": "stream",
     "text": [
      "./Infer/recon_4/t3815/t3815_fl_bet.nii.gz\n",
      "./Infer/recon_4/t5251/t5251_fl_bet.nii.gz\n"
     ]
    },
    {
     "name": "stderr",
     "output_type": "stream",
     "text": [
      " 86%|████████▌ | 43/50 [6:36:25<1:04:31, 553.10s/it]"
     ]
    },
    {
     "name": "stdout",
     "output_type": "stream",
     "text": [
      "./Infer/recon_4/t15342/t15342_fl_bet.nii.gz\n",
      "./Infer/recon_4/t11981/t11981_fl_bet.nii.gz\n"
     ]
    },
    {
     "name": "stderr",
     "output_type": "stream",
     "text": [
      " 88%|████████▊ | 44/50 [6:45:28<55:00, 550.02s/it]  "
     ]
    },
    {
     "name": "stdout",
     "output_type": "stream",
     "text": [
      "./Infer/recon_4/t12766/t12766_fl_bet.nii.gz\n",
      "./Infer/recon_4/t5684/t5684_fl_bet.nii.gz\n"
     ]
    },
    {
     "name": "stderr",
     "output_type": "stream",
     "text": [
      " 90%|█████████ | 45/50 [6:54:28<45:35, 547.08s/it]"
     ]
    },
    {
     "name": "stdout",
     "output_type": "stream",
     "text": [
      "./Infer/recon_4/t5645/t5645_fl_bet.nii.gz\n",
      "./Infer/recon_4/t5533/t5533_fl_bet.nii.gz\n"
     ]
    },
    {
     "name": "stderr",
     "output_type": "stream",
     "text": [
      " 92%|█████████▏| 46/50 [7:03:43<36:37, 549.48s/it]"
     ]
    },
    {
     "name": "stdout",
     "output_type": "stream",
     "text": [
      "./Infer/recon_4/t6612/t6612_fl_bet.nii.gz\n",
      "./Infer/recon_4/t5031/t5031_fl_bet.nii.gz\n"
     ]
    },
    {
     "name": "stderr",
     "output_type": "stream",
     "text": [
      " 94%|█████████▍| 47/50 [7:12:57<27:32, 550.78s/it]"
     ]
    },
    {
     "name": "stdout",
     "output_type": "stream",
     "text": [
      "./Infer/recon_4/t14401/t14401_fl_bet.nii.gz\n",
      "./Infer/recon_4/t8136/t8136_fl_bet.nii.gz\n"
     ]
    },
    {
     "name": "stderr",
     "output_type": "stream",
     "text": [
      " 96%|█████████▌| 48/50 [7:21:56<18:14, 547.34s/it]"
     ]
    },
    {
     "name": "stdout",
     "output_type": "stream",
     "text": [
      "./Infer/recon_4/t3029/t3029_fl_bet.nii.gz\n",
      "./Infer/recon_4/t5060/t5060_fl_bet.nii.gz\n"
     ]
    },
    {
     "name": "stderr",
     "output_type": "stream",
     "text": [
      " 98%|█████████▊| 49/50 [7:30:55<09:04, 544.87s/it]"
     ]
    },
    {
     "name": "stdout",
     "output_type": "stream",
     "text": [
      "./Infer/recon_4/t5890/t5890_fl_bet.nii.gz\n",
      "./Infer/recon_4/t12214/t12214_fl_bet.nii.gz\n"
     ]
    },
    {
     "name": "stderr",
     "output_type": "stream",
     "text": [
      "100%|██████████| 50/50 [7:39:57<00:00, 551.95s/it]"
     ]
    },
    {
     "name": "stdout",
     "output_type": "stream",
     "text": [
      "./Infer/recon_4/t5577/t5577_fl_bet.nii.gz\n"
     ]
    },
    {
     "name": "stderr",
     "output_type": "stream",
     "text": [
      "\n"
     ]
    }
   ],
   "source": [
    "high_res_folder = './Infer/high_res'\n",
    "low_res_folder = f'./Infer/low_res_{down_sample}'\n",
    "recon_folder = f'./Infer/recon_{down_sample}'\n",
    "if not os.path.exists(high_res_folder):\n",
    "    os.makedirs(high_res_folder)\n",
    "if not os.path.exists(low_res_folder):\n",
    "    os.makedirs(low_res_folder)\n",
    "if not os.path.exists(recon_folder):\n",
    "    os.makedirs(recon_folder)\n",
    "output_list = []\n",
    "with torch.no_grad():\n",
    "    with torch.autocast(device_type=\"cuda\" , dtype=torch.bfloat16):\n",
    "        for batch_data in tqdm(test_loader):\n",
    "            paths = batch_data[\"path\"]\n",
    "            image = batch_data[\"hi_res\"].to(device)\n",
    "            low_res = batch_data[\"low_res\"].to(device)\n",
    "            output = model_inferer(low_res)\n",
    "            output = model_inferer(output)\n",
    "            high_res = image.cpu().float().numpy()\n",
    "            low_res = low_res.cpu().float().numpy()\n",
    "            recon = output.cpu().float().numpy()\n",
    "            B,C,H,W,D = high_res.shape\n",
    "            for i in range(B):\n",
    "                path = paths[i]\n",
    "                basename = os.path.basename(path)\n",
    "                tnum = path.split('/')[-1].split('_')[0]\n",
    "                low_res_image = low_res[i,0,:,:,:]\n",
    "                recon_image = recon[i,0,:,:,:]\n",
    "                high_res_image = high_res[i,0,:,:,:]\n",
    "                \n",
    "                raw_nib = nib.load(path)\n",
    "                spacing = raw_nib.header['pixdim'][1:4]\n",
    "                spacing[2] = 1.0\n",
    "                nib_size = raw_nib.shape\n",
    "                nib_size = list(nib_size)\n",
    "                high_size = high_res_image.shape\n",
    "                nib_size[2] = high_size[2]\n",
    "                affine = np.eye(4)\n",
    "                affine[:3,:3] = np.diag(spacing)\n",
    "                transfrom_infer = transforms.Compose([\n",
    "                    transforms.EnsureChannelFirst(channel_dim=0),\n",
    "                    transforms.Spacing(pixdim=spacing,mode='bilinear'),\n",
    "                    transforms.ResizeWithPadOrCrop(spatial_size=nib_size),\n",
    "                    ])\n",
    "                low_res_image = transfrom_infer(low_res_image[np.newaxis,:,:,:].copy())[0].numpy()\n",
    "                recon_image = transfrom_infer(recon_image[np.newaxis,:,:,:].copy())[0].numpy()\n",
    "                high_res_image = transfrom_infer(high_res_image[np.newaxis,:,:,:].copy())[0].numpy()\n",
    "\n",
    "                low_res_nib = nib.Nifti1Image(low_res_image.astype(np.float32),affine)\n",
    "                recon_nib = nib.Nifti1Image(recon_image.astype(np.float32),affine)\n",
    "                high_res_nib = nib.Nifti1Image(high_res_image.astype(np.float32),affine)\n",
    "                hig_path = f'{high_res_folder}/{tnum}'\n",
    "                os.makedirs(hig_path,exist_ok=True)\n",
    "                low_path = f'{low_res_folder}/{tnum}'\n",
    "                os.makedirs(low_path,exist_ok=True)\n",
    "                recon_path = f'{recon_folder}/{tnum}'\n",
    "                os.makedirs(recon_path,exist_ok=True)\n",
    "\n",
    "                nib.save(high_res_nib,os.path.join(hig_path,basename))\n",
    "                nib.save(low_res_nib,os.path.join(low_path,basename))\n",
    "                nib.save(recon_nib,os.path.join(recon_path,basename))\n",
    "                print(os.path.join(recon_path,basename))\n",
    "                output_list.append({'high_res':os.path.join(hig_path,basename),'low_res':os.path.join(low_path,basename),'recon':os.path.join(recon_path,basename)})\n",
    "            # break"
   ]
  },
  {
   "cell_type": "code",
   "execution_count": 7,
   "metadata": {},
   "outputs": [
    {
     "data": {
      "image/png": "[encoded data removed]",
      "text/plain": [
       "<Figure size 1500x1500 with 3 Axes>"
      ]
     },
     "metadata": {},
     "output_type": "display_data"
    }
   ],
   "source": [
    "idx = 0\n",
    "slice = 100\n",
    "image_ = high_res[idx][0]\n",
    "low_res_ = low_res[idx][0]\n",
    "recon_ = recon[idx][0]\n",
    "plt.figure(figsize=(15,15))\n",
    "\n",
    "plt.subplot(131)\n",
    "image_ = np.rot90(image_[:, slice, :])\n",
    "plt.imshow(image_, cmap='gray')\n",
    "plt.title('Original High Resolution', fontsize=16)\n",
    "\n",
    "plt.subplot(132)\n",
    "low_res_ = np.rot90(low_res_[:, slice, :])\n",
    "plt.imshow(low_res_, cmap='gray')\n",
    "plt.title('Low Resolution', fontsize=16)\n",
    "\n",
    "plt.subplot(133)\n",
    "recon_ = np.rot90(recon_[:, slice, :])\n",
    "plt.imshow(recon_, cmap='gray')\n",
    "plt.title('Super-resolution Image', fontsize=16)\n",
    "\n",
    "plt.tight_layout()\n",
    "plt.show()"
   ]
  },
  {
   "cell_type": "code",
   "execution_count": null,
   "metadata": {},
   "outputs": [],
   "source": [
    "idx = 0\n",
    "slice = 100\n",
    "image_ = high_res[idx][0]\n",
    "low_res_ = low_res[idx][0]\n",
    "recon_ = recon[idx][0]\n",
    "plt.figure(figsize=(15,15))\n",
    "\n",
    "plt.subplot(131)\n",
    "image_ = np.rot90(image_[:, slice, :])\n",
    "plt.imshow(image_, cmap='gray')\n",
    "plt.title('Original High Resolution', fontsize=16)\n",
    "\n",
    "plt.subplot(132)\n",
    "low_res_ = np.rot90(low_res_[:, slice, :])\n",
    "plt.imshow(low_res_, cmap='gray')\n",
    "plt.title('Low Resolution', fontsize=16)\n",
    "\n",
    "plt.subplot(133)\n",
    "recon_ = np.rot90(recon_[:, slice, :])\n",
    "plt.imshow(recon_, cmap='gray')\n",
    "plt.title('Super-resolution Image', fontsize=16)\n",
    "\n",
    "plt.tight_layout()\n",
    "plt.show()"
   ]
  },
  {
   "cell_type": "code",
   "execution_count": 9,
   "metadata": {},
   "outputs": [
    {
     "data": {
      "text/plain": [
       "array([[0.9375, 0.    , 0.    , 0.    ],\n",
       "       [0.    , 0.9375, 0.    , 0.    ],\n",
       "       [0.    , 0.    , 5.    , 0.    ],\n",
       "       [0.    , 0.    , 0.    , 1.    ]])"
      ]
     },
     "execution_count": 9,
     "metadata": {},
     "output_type": "execute_result"
    }
   ],
   "source": [
    "affine"
   ]
  },
  {
   "cell_type": "code",
   "execution_count": 1,
   "metadata": {},
   "outputs": [],
   "source": [
    "import os, json, torch, random\n",
    "import numpy as np\n",
    "from monai import transforms\n",
    "from monai.data import DataLoader, DistributedSampler\n",
    "from tqdm import tqdm\n",
    "import matplotlib.pyplot as plt\n",
    "from torch.utils.data import Dataset\n",
    "from monai.networks.nets.swin_unetr import SwinUNETR\n",
    "from monai.inferers import sliding_window_inference\n",
    "from functools import partial\n",
    "import matplotlib.pyplot as plt\n",
    "from models.SuperFormer import SuperFormer\n",
    "import nibabel as nib\n",
    "\n",
    "infer_transform = transforms.Compose([\n",
    "    \n",
    "    transforms.CopyItemsd(keys=['path'], names=['image']),\n",
    "    transforms.LoadImaged(keys=['image']),\n",
    "    transforms.EnsureChannelFirstd(keys=[\"image\"]),\n",
    "    transforms.EnsureTyped(keys=[\"image\"]),\n",
    "    transforms.Orientationd(keys=[\"image\"], axcodes=\"RAS\"),\n",
    "    transforms.ScaleIntensityRangePercentilesd(keys=[\"image\"], lower=0.5, upper=99.5, b_min=0, b_max=1,clip=True ),\n",
    "    transforms.Spacingd(keys=['image'],pixdim=(1,1,1),mode=\"nearest\"),\n",
    "    transforms.CopyItemsd(keys=['image'], names=['hi_res','low_res'], times=2),\n",
    "    transforms.DeleteItemsd(keys=['image'])])\n",
    "    \n",
    "image_path = {'path':\"/working/Data/Images/Cerebro_data/nifti_fl_bet/t5648_fl_bet.nii.gz\"}\n",
    "image_data = infer_transform(image_path)"
   ]
  },
  {
   "cell_type": "code",
   "execution_count": 2,
   "metadata": {},
   "outputs": [
    {
     "name": "stdout",
     "output_type": "stream",
     "text": [
      "Device cuda:2 — Free: 43056.44 MB, Total: 48576.62 MB\n",
      "Batch size: 29\n"
     ]
    }
   ],
   "source": [
    "model = SuperFormer(upscale=1,\n",
    "                   patch_size = 2,\n",
    "                   in_chans=1,\n",
    "                   img_size=64,\n",
    "                   window_size=8,\n",
    "                   img_range=1.0,\n",
    "                   depths=[6, 6, 6],\n",
    "                   embed_dim=240,\n",
    "                   num_heads=[6, 6, 6],\n",
    "                   mlp_ratio=2,\n",
    "                   upsampler=None,\n",
    "                   resi_connection=\"1conv\",\n",
    "                   ape=False, \n",
    "                   rpb=True,\n",
    "                   output_type = \"direct\",\n",
    "                   num_feat = 126)\n",
    "model.load_state_dict(torch.load('/working/Project/Sup_Res/checkpoint_superformer/pytorch_model.bin', weights_only=True))\n",
    "device = torch.device(\"cuda:2\" if torch.cuda.is_available() else \"cpu\")\n",
    "model = model.to(device)\n",
    "device_id = 2  # 对应 \"cuda:2\"\n",
    "free_mem, total_mem = torch.cuda.mem_get_info(device_id)\n",
    "print(f\"Device cuda:{device_id} — Free: {free_mem / 1024**2:.2f} MB, Total: {total_mem / 1024**2:.2f} MB\")\n",
    "avail_mem = free_mem / 1024**2\n",
    "batch_size = np.floor((avail_mem-1200) / 1400).astype(int)\n",
    "print(f\"Batch size: {batch_size}\")\n",
    "model_inferer = partial(\n",
    "    sliding_window_inference,\n",
    "    roi_size=[64, 64, 64],\n",
    "    sw_batch_size=batch_size,\n",
    "    predictor=model,\n",
    "    overlap=0.6,\n",
    ")"
   ]
  },
  {
   "cell_type": "code",
   "execution_count": 3,
   "metadata": {},
   "outputs": [
    {
     "name": "stdout",
     "output_type": "stream",
     "text": [
      "torch.Size([1, 1, 240, 240, 163])\n"
     ]
    }
   ],
   "source": [
    "num_upsample = 1\n",
    "with torch.no_grad():\n",
    "    with torch.autocast(device_type=\"cuda\" , dtype=torch.bfloat16):\n",
    "        path = image_data[\"path\"]\n",
    "        image = image_data[\"hi_res\"].unsqueeze(0).to(device)\n",
    "        low_res = image_data[\"low_res\"].unsqueeze(0).to(device)\n",
    "        print(image.shape)\n",
    "        for i in range(num_upsample):\n",
    "            low_res = model_inferer(low_res)\n",
    "        recon = low_res.squeeze().cpu().float().numpy()\n",
    "        high_res = image.squeeze().cpu().float().numpy()"
   ]
  },
  {
   "cell_type": "code",
   "execution_count": 4,
   "metadata": {},
   "outputs": [],
   "source": [
    "basename = os.path.basename(path)\n",
    "raw_nib = nib.load(path)\n",
    "spacing = raw_nib.header['pixdim'][1:4]\n",
    "spacing[2] = 1.0\n",
    "nib_size = raw_nib.shape\n",
    "nib_size = list(nib_size)\n",
    "high_size = high_res.shape\n",
    "nib_size[2] = high_size[2]\n",
    "affine = np.eye(4)\n",
    "affine[:3,:3] = np.diag(spacing)\n",
    "transfrom_infer = transforms.Compose([\n",
    "    transforms.EnsureChannelFirst(channel_dim=0),\n",
    "    transforms.Spacing(pixdim=spacing,mode='bilinear'),\n",
    "    transforms.ResizeWithPadOrCrop(spatial_size=nib_size),\n",
    "    ])\n",
    "recon_image = transfrom_infer(recon[np.newaxis,:,:,:].copy())[0].numpy()\n",
    "high_res_image = transfrom_infer(high_res[np.newaxis,:,:,:].copy())[0].numpy()\n",
    "recon_nib = nib.Nifti1Image(recon_image.astype(np.float32),affine)\n",
    "high_res_nib = nib.Nifti1Image(high_res_image.astype(np.float32),affine)\n",
    "os.makedirs('temp_low',exist_ok=True)\n",
    "os.makedirs('temp_recon',exist_ok=True)\n",
    "nib.save(high_res_nib,os.path.join('temp_low',basename))\n",
    "nib.save(recon_nib,os.path.join('temp_recon',basename))"
   ]
  },
  {
   "cell_type": "code",
   "execution_count": 43,
   "metadata": {},
   "outputs": [],
   "source": [
    "class MRIDataset(Dataset):\n",
    "    def downsample_mri_kspace(self, mri_image, downsampling_factor):\n",
    "        \"\"\"\n",
    "        Downsamples an MRI image using k-space zero-filling.\n",
    "        \"\"\"\n",
    "        # Get the image data and affine transformation\n",
    "        data = mri_image[0]\n",
    "\n",
    "        # Get the spatial dimensions\n",
    "        spatial_dims = data.shape[: len(downsampling_factor)]\n",
    "        num_spatial_dims = len(spatial_dims)\n",
    "\n",
    "        # Check if the downsampling factor is valid\n",
    "        if len(downsampling_factor) != num_spatial_dims:\n",
    "            raise ValueError(\n",
    "                f\"Downsampling factor length ({len(downsampling_factor)}) must match the number of spatial dimensions ({num_spatial_dims}).\"\n",
    "            )\n",
    "        for factor in downsampling_factor:\n",
    "            if not isinstance(factor, int) or factor < 1:\n",
    "                raise ValueError(\"Downsampling factors must be positive integers.\")\n",
    "\n",
    "        # Perform k-space transform\n",
    "        k_space = np.fft.fftn(data, axes=range(num_spatial_dims))\n",
    "        k_space_shifted = np.fft.fftshift(k_space, axes=range(num_spatial_dims))\n",
    "\n",
    "        # Create a new k-space array with zero-filling\n",
    "        new_k_space_shape = list(k_space_shifted.shape)\n",
    "\n",
    "        # Determine the central portion to keep in k-space\n",
    "        start_indices = []\n",
    "        end_indices = []\n",
    "        for i in range(num_spatial_dims):\n",
    "            center = spatial_dims[i] // 2\n",
    "            half_kept = (spatial_dims[i] // downsampling_factor[i]) // 2\n",
    "            start_indices.append(center - half_kept)\n",
    "            end_indices.append(\n",
    "                center + (spatial_dims[i] // downsampling_factor[i]) - half_kept\n",
    "            )\n",
    "            new_k_space_shape[i] = spatial_dims[i] // downsampling_factor[i]\n",
    "\n",
    "        # Place the central portion of the original k-space into the new (larger) array\n",
    "        slices = tuple(\n",
    "            slice(start, end) for start, end in zip(start_indices, end_indices)\n",
    "        )\n",
    "        # downsampled_k_space_shifted[slices] = k_space_shifted[slices]\n",
    "        downsampled_k_space_shifted = k_space_shifted[slices]\n",
    "\n",
    "        # Inverse k-space transform to get the downsampled image\n",
    "        downsampled_k_space = np.fft.ifftshift(\n",
    "            downsampled_k_space_shifted, axes=range(num_spatial_dims)\n",
    "        )\n",
    "        downsampled_data = np.fft.ifftn(\n",
    "            downsampled_k_space, axes=range(num_spatial_dims)\n",
    "        ).real\n",
    "        downsampled_data = downsampled_data[\n",
    "            np.newaxis, ...\n",
    "        ]  # Add a new axis to match the original shape\n",
    "\n",
    "        return downsampled_data\n",
    "\n",
    "    def __init__(self, image_paths):\n",
    "        self.image_paths = image_paths\n",
    "        self.resample_factors = [\n",
    "            (5, 1, 1),\n",
    "            (6, 1, 1),\n",
    "        ]\n",
    "        self.train_transform_1 = transforms.Compose(\n",
    "            [\n",
    "                transforms.Lambda(func=lambda d: {**d, \"mask\": d[\"file_name\"].replace(\".nii.gz\", \"_mask.nii.gz\")}),\n",
    "                transforms.LoadImaged(keys=[\"file_name\", \"mask\"]),\n",
    "                transforms.CopyItemsd(keys=[\"file_name\"], names=[\"image\"]),\n",
    "                transforms.DeleteItemsd(keys=[\"file_name\"]),\n",
    "                transforms.EnsureChannelFirstd(keys=[\"image\",\"mask\"]),\n",
    "                transforms.EnsureTyped(keys=[\"image\",\"mask\"]),\n",
    "                transforms.Orientationd(keys=[\"image\",\"mask\"], axcodes=\"RAS\"),\n",
    "                transforms.ScaleIntensityRangePercentilesd(\n",
    "                    keys=[\"image\"], lower=0.5, upper=99.5, b_min=0, b_max=1, clip=True\n",
    "                ),\n",
    "                transforms.Spacingd(keys=[\"image\",\"mask\"], pixdim=(1, 1, 1), mode=3),\n",
    "                transforms.ResizeWithPadOrCropd(\n",
    "                    keys=[\"image\",\"mask\"], spatial_size=(240, 240, 180)\n",
    "                ),\n",
    "                transforms.CopyItemsd(\n",
    "                    keys=[\"image\"], names=[\"hi_res\", \"low_res\"], times=2\n",
    "                ),\n",
    "                transforms.DeleteItemsd(keys=[\"image\"]),\n",
    "            ]\n",
    "        )\n",
    "        self.train_transform_2 = transforms.Compose(\n",
    "            [\n",
    "                transforms.Resized(\n",
    "                    keys=[\"low_res\"], spatial_size=(240, 240, 180), mode=\"nearest\"\n",
    "                ),\n",
    "                transforms.Lambda(func=lambda d: {\n",
    "                    **d,\n",
    "                    \"new_res\": d[\"low_res\"] * (d[\"mask\"] > 0.2)\n",
    "                }),\n",
    "                transforms.CropForegroundd(\n",
    "                    keys=[\"hi_res\", \"low_res\"], source_key=\"mask\", allow_smaller=False\n",
    "                ),\n",
    "                # transforms.RandSpatialCropd(\n",
    "                #     keys=[\"hi_res\", \"low_res\"], roi_size=(64, 64, 64), random_size=False\n",
    "                # ),\n",
    "            ]\n",
    "        )\n",
    "\n",
    "    def __len__(self):\n",
    "        return len(self.image_paths)\n",
    "\n",
    "    def __getitem__(self, idx):\n",
    "        data = self.image_paths[idx]\n",
    "        transformed_data = self.train_transform_1(data)\n",
    "        transformed_data[\"low_res\"] = self.downsample_mri_kspace(\n",
    "            transformed_data[\"low_res\"], random.choice(self.resample_factors)\n",
    "        )\n",
    "        transformed_data = self.train_transform_2(transformed_data)\n",
    "        return transformed_data"
   ]
  },
  {
   "cell_type": "code",
   "execution_count": 45,
   "metadata": {},
   "outputs": [],
   "source": [
    "with open(\"json/train_files4.json\") as f:\n",
    "    train_files = json.load(f)\n",
    "train_ds = MRIDataset(train_files)"
   ]
  },
  {
   "cell_type": "code",
   "execution_count": 46,
   "metadata": {},
   "outputs": [],
   "source": [
    "temp_data = train_ds[100]"
   ]
  },
  {
   "cell_type": "code",
   "execution_count": 47,
   "metadata": {},
   "outputs": [
    {
     "name": "stdout",
     "output_type": "stream",
     "text": [
      "dict_keys(['mask', 'hi_res', 'low_res', 'new_res', 'foreground_start_coord', 'foreground_end_coord'])\n"
     ]
    }
   ],
   "source": [
    "print(temp_data.keys())"
   ]
  },
  {
   "cell_type": "code",
   "execution_count": 28,
   "metadata": {},
   "outputs": [],
   "source": [
    "import matplotlib.pyplot as plt\n",
    "import numpy as np"
   ]
  },
  {
   "cell_type": "code",
   "execution_count": 29,
   "metadata": {},
   "outputs": [
    {
     "name": "stdout",
     "output_type": "stream",
     "text": [
      "(1, 240, 240, 180)\n"
     ]
    }
   ],
   "source": [
    "low = temp_data['low_res'].numpy()\n",
    "print(low.shape)"
   ]
  },
  {
   "cell_type": "code",
   "execution_count": 48,
   "metadata": {},
   "outputs": [
    {
     "data": {
      "image/png": "[encoded data removed]",
      "text/plain": [
       "<Figure size 640x480 with 1 Axes>"
      ]
     },
     "metadata": {},
     "output_type": "display_data"
    }
   ],
   "source": [
    "plt.imshow(np.rot90(temp_data['mask'].numpy()[0, :, :, 32]), cmap='gray')\n",
    "plt.show()"
   ]
  },
  {
   "cell_type": "code",
   "execution_count": 49,
   "metadata": {},
   "outputs": [
    {
     "name": "stdout",
     "output_type": "stream",
     "text": [
      "-0.0\n"
     ]
    }
   ],
   "source": [
    "print(temp_data['mask'].numpy()[0, 0, 1, 32])"
   ]
  },
  {
   "cell_type": "code",
   "execution_count": 50,
   "metadata": {},
   "outputs": [
    {
     "data": {
      "image/png": "[encoded data removed]",
      "text/plain": [
       "<Figure size 640x480 with 1 Axes>"
      ]
     },
     "metadata": {},
     "output_type": "display_data"
    }
   ],
   "source": [
    "plt.imshow(np.rot90(temp_data['new_res'].numpy()[0, :, :, 32]), cmap='gray')\n",
    "plt.show()"
   ]
  },
  {
   "cell_type": "code",
   "execution_count": 51,
   "metadata": {},
   "outputs": [
    {
     "data": {
      "image/png": "[encoded data removed]",
      "text/plain": [
       "<Figure size 640x480 with 1 Axes>"
      ]
     },
     "metadata": {},
     "output_type": "display_data"
    }
   ],
   "source": [
    "plt.imshow(np.rot90(temp_data['low_res'].numpy()[0, :, :, 32]), cmap='gray')\n",
    "plt.show()"
   ]
  }
 ],
 "metadata": {
  "kernelspec": {
   "display_name": "pytorch",
   "language": "python",
   "name": "python3"
  },
  "language_info": {
   "codemirror_mode": {
    "name": "ipython",
    "version": 3
   },
   "file_extension": ".py",
   "mimetype": "text/x-python",
   "name": "python",
   "nbconvert_exporter": "python",
   "pygments_lexer": "ipython3",
   "version": "3.12.9"
  }
 },
 "nbformat": 4,
 "nbformat_minor": 2
}
