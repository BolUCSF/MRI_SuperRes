{
 "cells": [
  {
   "cell_type": "code",
   "execution_count": 1,
   "metadata": {},
   "outputs": [],
   "source": [
    "import json, os\n",
    "from glob import glob\n",
    "import nibabel as nib\n",
    "from tqdm import tqdm\n",
    "import numpy as np"
   ]
  },
  {
   "cell_type": "code",
   "execution_count": 37,
   "metadata": {},
   "outputs": [],
   "source": [
    "with open('json/high_res.json') as f:\n",
    "    files_list = json.load(f)"
   ]
  },
  {
   "cell_type": "code",
   "execution_count": null,
   "metadata": {},
   "outputs": [
    {
     "name": "stderr",
     "output_type": "stream",
     "text": [
      "100%|██████████| 100/100 [00:21<00:00,  4.56it/s]\n"
     ]
    }
   ],
   "source": [
    "pair_list =[]\n",
    "for file in tqdm(files_list[:100]):\n",
    "    tnum = file['file_name'].split('/')[-1].replace('_bet.nii.gz','')\n",
    "    fl_path = file['file_name'].replace('t1c_bet','fl_bet')\n",
    "    if os.path.exists(fl_path):\n",
    "        fl_nib = nib.load(fl_path)\n",
    "        fl_data = fl_nib.get_fdata()\n",
    "        if fl_data.shape[2] > 100 and fl_data.shape[0] > 200 and fl_data.shape[1] > 200:\n",
    "            pair_list.append({'t1c':file['file_name'],'fl':fl_path,'tnum':tnum})\n",
    "            # print(os.path.exists(fl_path))\n",
    "            # print(file)"
   ]
  },
  {
   "cell_type": "code",
   "execution_count": 10,
   "metadata": {},
   "outputs": [],
   "source": [
    "with open('json/pair_0.json', 'w') as f:\n",
    "    json.dump(pair_list, f,indent=4)"
   ]
  },
  {
   "cell_type": "code",
   "execution_count": 6,
   "metadata": {},
   "outputs": [
    {
     "name": "stdout",
     "output_type": "stream",
     "text": [
      "2521\n"
     ]
    }
   ],
   "source": [
    "from glob import glob\n",
    "pair_list =[]\n",
    "for json_file in glob('logs/pair_val_check_*.json'):\n",
    "    with open(json_file) as f:\n",
    "        pair_list += json.load(f)\n",
    "print(len(pair_list))"
   ]
  },
  {
   "cell_type": "code",
   "execution_count": 7,
   "metadata": {},
   "outputs": [],
   "source": [
    "val_list = pair_list[:1500]\n",
    "test_list = pair_list[1500:-1]"
   ]
  },
  {
   "cell_type": "code",
   "execution_count": 8,
   "metadata": {},
   "outputs": [],
   "source": [
    "with open('json/val_pair.json', 'w') as f:\n",
    "    json.dump(val_list, f,indent=4)\n",
    "with open('json/test_pair.json', 'w') as f:\n",
    "    json.dump(test_list, f,indent=4)"
   ]
  },
  {
   "cell_type": "code",
   "execution_count": 9,
   "metadata": {},
   "outputs": [],
   "source": [
    "with open('json/train_list.json') as f:\n",
    "    train_list = json.load(f)\n",
    "with open('json/val_list.json') as f:\n",
    "    val_list = json.load(f)"
   ]
  },
  {
   "cell_type": "code",
   "execution_count": 13,
   "metadata": {},
   "outputs": [
    {
     "name": "stdout",
     "output_type": "stream",
     "text": [
      "4870\n"
     ]
    }
   ],
   "source": [
    "train_list = list({v['file_name']:v for v in train_list}.values())\n",
    "print(len(train_list))"
   ]
  },
  {
   "cell_type": "code",
   "execution_count": 14,
   "metadata": {},
   "outputs": [
    {
     "name": "stdout",
     "output_type": "stream",
     "text": [
      "2395\n"
     ]
    }
   ],
   "source": [
    "val_list = list({v['file_name']:v for v in val_list}.values())\n",
    "print(len(val_list))"
   ]
  },
  {
   "cell_type": "code",
   "execution_count": 15,
   "metadata": {},
   "outputs": [
    {
     "name": "stdout",
     "output_type": "stream",
     "text": [
      "2357\n"
     ]
    }
   ],
   "source": [
    "overlap = [x for x in train_list if x in val_list]\n",
    "print(len(overlap))"
   ]
  },
  {
   "cell_type": "code",
   "execution_count": 20,
   "metadata": {},
   "outputs": [
    {
     "name": "stdout",
     "output_type": "stream",
     "text": [
      "4908\n",
      "4908\n"
     ]
    }
   ],
   "source": [
    "with open('json/high_res.json') as f:\n",
    "    high_list = json.load(f)\n",
    "print(len(high_list))\n",
    "high_list = list({v['file_name']:v for v in high_list}.values())\n",
    "print(len(high_list))"
   ]
  },
  {
   "cell_type": "code",
   "execution_count": 19,
   "metadata": {},
   "outputs": [],
   "source": [
    "with open('json/high_res.json', 'w') as f:\n",
    "    json.dump(high_list, f,indent=4)"
   ]
  },
  {
   "cell_type": "code",
   "execution_count": 21,
   "metadata": {},
   "outputs": [
    {
     "name": "stdout",
     "output_type": "stream",
     "text": [
      "json/test_pair.json\n",
      "json/val_pair.json\n",
      "json/train_pair.json\n"
     ]
    }
   ],
   "source": [
    "pair_list =[]\n",
    "for json_file in glob('json/*_pair.json'):\n",
    "    print(json_file)\n",
    "    with open(json_file) as f:\n",
    "        pair_list += json.load(f)"
   ]
  },
  {
   "cell_type": "code",
   "execution_count": 25,
   "metadata": {},
   "outputs": [
    {
     "name": "stdout",
     "output_type": "stream",
     "text": [
      "4202\n"
     ]
    }
   ],
   "source": [
    "pair_list = list({v['t1c']:v for v in pair_list}.values())\n",
    "print(len(pair_list))"
   ]
  },
  {
   "cell_type": "code",
   "execution_count": 27,
   "metadata": {},
   "outputs": [],
   "source": [
    "with open('json/high_pair.json', 'w') as f:\n",
    "    json.dump(pair_list, f,indent=4)"
   ]
  },
  {
   "cell_type": "code",
   "execution_count": 28,
   "metadata": {},
   "outputs": [],
   "source": [
    "import random\n",
    "random.shuffle(pair_list)\n",
    "train_list = pair_list[:2940]\n",
    "val_list = pair_list[2940:3570]\n",
    "test_list = pair_list[3570:]"
   ]
  },
  {
   "cell_type": "code",
   "execution_count": 29,
   "metadata": {},
   "outputs": [],
   "source": [
    "with open('json/train_pair.json', 'w') as f:\n",
    "    json.dump(train_list, f,indent=4)\n",
    "with open('json/val_pair.json', 'w') as f:\n",
    "    json.dump(val_list, f,indent=4)\n",
    "with open('json/test_pair.json', 'w') as f:\n",
    "    json.dump(test_list, f,indent=4)"
   ]
  },
  {
   "cell_type": "code",
   "execution_count": 30,
   "metadata": {},
   "outputs": [
    {
     "name": "stdout",
     "output_type": "stream",
     "text": [
      "2940\n",
      "630\n",
      "632\n"
     ]
    }
   ],
   "source": [
    "print(len(train_list))\n",
    "print(len(val_list))\n",
    "print(len(test_list))"
   ]
  },
  {
   "cell_type": "code",
   "execution_count": 34,
   "metadata": {},
   "outputs": [],
   "source": [
    "train_files = [{'file_name':v['t1c']} for v in train_list]+[{'file_name':v['fl']} for v in train_list]\n",
    "val_files = [{'file_name':v['t1c']} for v in val_list]+[{'file_name':v['fl']} for v in val_list]\n",
    "test_files = [{'file_name':v['t1c']} for v in test_list]+[{'file_name':v['fl']} for v in test_list]\n",
    "with open('json/train_files.json', 'w') as f:\n",
    "    json.dump(train_files, f,indent=4)\n",
    "with open('json/val_files.json', 'w') as f:\n",
    "    json.dump(val_files, f,indent=4)\n",
    "with open('json/test_files.json', 'w') as f:\n",
    "    json.dump(test_files, f,indent=4)"
   ]
  },
  {
   "cell_type": "code",
   "execution_count": 32,
   "metadata": {},
   "outputs": [
    {
     "data": {
      "text/plain": [
       "1264"
      ]
     },
     "execution_count": 32,
     "metadata": {},
     "output_type": "execute_result"
    }
   ],
   "source": [
    "len(test_files)"
   ]
  }
 ],
 "metadata": {
  "kernelspec": {
   "display_name": "Python 3",
   "language": "python",
   "name": "python3"
  },
  "language_info": {
   "codemirror_mode": {
    "name": "ipython",
    "version": 3
   },
   "file_extension": ".py",
   "mimetype": "text/x-python",
   "name": "python",
   "nbconvert_exporter": "python",
   "pygments_lexer": "ipython3",
   "version": "3.12.9"
  }
 },
 "nbformat": 4,
 "nbformat_minor": 2
}
